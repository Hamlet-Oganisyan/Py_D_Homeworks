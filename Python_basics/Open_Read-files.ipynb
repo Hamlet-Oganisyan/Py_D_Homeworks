{
 "cells": [
  {
   "cell_type": "markdown",
   "metadata": {},
   "source": [
    "### Задачи 1 и 2"
   ]
  },
  {
   "cell_type": "code",
   "execution_count": 224,
   "metadata": {},
   "outputs": [
    {
     "name": "stdout",
     "output_type": "stream",
     "text": [
      "Список возможных блюд: , Омлет, Утка по-пекински, Запеченный картофель, Фахитос\n",
      "Введите блюда из списка выше (через запятую): Омлет, Фахитос\n",
      "Введите количество гостей: 1\n"
     ]
    },
    {
     "data": {
      "text/plain": [
       "{'Яйцо ': {'measure': ' шт\\n', 'quantity': 2},\n",
       " 'Молоко ': {'measure': ' мл\\n', 'quantity': 100},\n",
       " 'Помидор ': {'measure': ' шт\\n', 'quantity': 4},\n",
       " 'Говядина ': {'measure': ' г\\n', 'quantity': 500},\n",
       " 'Перец сладкий ': {'measure': ' шт\\n', 'quantity': 1},\n",
       " 'Лаваш ': {'measure': ' шт\\n', 'quantity': 2},\n",
       " 'Винный уксус ': {'measure': ' ст.л\\n', 'quantity': 1}}"
      ]
     },
     "execution_count": 224,
     "metadata": {},
     "output_type": "execute_result"
    }
   ],
   "source": [
    "### Задача №1\n",
    "import pprint\n",
    "with open ('D:/Netology/Python_basics/Recipes.txt', encoding='utf-8') as file:\n",
    "    cook_book = { }\n",
    "    for line in file:\n",
    "        dish = line.strip()\n",
    "        ingredients_counts = int(file.readline())\n",
    "        ingredient_list = []\n",
    "        for i in range(ingredients_counts):\n",
    "            ingredients = {}            \n",
    "            line = file.readline().split('|')\n",
    "            ingredient_name, quantity, measure = line\n",
    "            ingredients = {'ingredient_name': ingredient_name, 'quantity': quantity, 'measure': measure}\n",
    "            ingredient_list.append(ingredients)\n",
    "        cook_book[dish] = ingredient_list\n",
    "        file.readline()\n",
    "#     pprint.pprint(cook_book) \n",
    "\n",
    "### Задача №2\n",
    "# dishes_to_cook = ['Омлет', 'Фахитос']\n",
    "# persons = 4\n",
    "def get_shop_list_by_dishes(prepare_list, persons):\n",
    "    pass\n",
    "    shop_list = {} \n",
    "    for dish in prepare_list:\n",
    "        if dish in cook_book.keys():\n",
    "            for x in cook_book[dish]:\n",
    "                x['quantity'] = int(x['quantity'])*persons\n",
    "                if x['ingredient_name'] not in shop_list:\n",
    "                    shop_list[x['ingredient_name']] = {'measure': x['measure'],'quantity': x['quantity']}\n",
    "                else:\n",
    "                    shop_list[x['ingredient_name']]['quantity'] += x['quantity']\n",
    "    return shop_list\n",
    "# get_shop_list_by_dishes(dishes_to_cook, persons)\n",
    "    \n",
    "def main_():\n",
    "    prepare_list = []\n",
    "    print('Список возможных блюд: ', *list(cook_book.keys()), sep=', ' )\n",
    "    dishes_to_cook = input('Введите блюда из списка выше (через запятую): ').split(',')\n",
    "    for dish in dishes_to_cook:\n",
    "        dish = dish.strip().capitalize()\n",
    "        if dish not in list(cook_book.keys()):\n",
    "            print('Такого блюда f\"{dish}\" в списке нет')\n",
    "        else:\n",
    "            prepare_list.append(dish)\n",
    "    persons = int(input('Введите количество гостей: '))\n",
    "    return get_shop_list_by_dishes(prepare_list, persons)\n",
    "main_()"
   ]
  },
  {
   "cell_type": "markdown",
   "metadata": {},
   "source": [
    "# Задача 3"
   ]
  },
  {
   "cell_type": "code",
   "execution_count": 339,
   "metadata": {
    "scrolled": false
   },
   "outputs": [],
   "source": [
    "import os\n",
    "import operator\n",
    "new_file = 'D:/Netology/Python_basics/new_file.txt'\n",
    "file_dict = {}\n",
    "directory = 'D:/Netology/Python_basics/Open_files'\n",
    "for file in os.listdir(directory):    \n",
    "    with open(os.path.join(directory, file), encoding='utf-8') as f: \n",
    "        data = f.readlines()\n",
    "        row = len(data)    \n",
    "        file_dict[row] = {file: data}   \n",
    "with open(new_file,'a', encoding=\"utf-8\") as nf:\n",
    "    for k, v in sorted(file_dict.items()):\n",
    "        for line in v.values():\n",
    "            text2 = ''.join(line)\n",
    "        file_name = ''.join(v.keys())\n",
    "        nf.write(f'{file_name} \\n')\n",
    "        nf.write(f'{str(k)}\\n')\n",
    "        nf.write(f'{text2}\\n')"
   ]
  }
 ],
 "metadata": {
  "interpreter": {
   "hash": "ae7caf07f3fd4dee6d62799d61af1ec9b3f551d49b927d7a3458048460ab39f8"
  },
  "kernelspec": {
   "display_name": "Python 3 (ipykernel)",
   "language": "python",
   "name": "python3"
  },
  "language_info": {
   "codemirror_mode": {
    "name": "ipython",
    "version": 3
   },
   "file_extension": ".py",
   "mimetype": "text/x-python",
   "name": "python",
   "nbconvert_exporter": "python",
   "pygments_lexer": "ipython3",
   "version": "3.9.7"
  }
 },
 "nbformat": 4,
 "nbformat_minor": 2
}
